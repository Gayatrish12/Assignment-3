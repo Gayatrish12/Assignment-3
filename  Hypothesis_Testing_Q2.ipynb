{
 "cells": [
  {
   "cell_type": "markdown",
   "id": "a2c58816",
   "metadata": {},
   "source": [
    "### Problem Statement¶"
   ]
  },
  {
   "cell_type": "markdown",
   "id": "277acd60",
   "metadata": {},
   "source": [
    "**A hospital wants to determine whether there is any difference in the average\n",
    "Turn Around Time (TAT) of reports of the laboratories on their preferred list. \n",
    "They collected a random sample and recorded TAT for reports of 4 laboratories. \n",
    "TAT is defined as sample collected to report dispatch.\n",
    "Analyze the data and determine whether there is any difference in average\n",
    "TAT among the different laboratories at 5% significance level**"
   ]
  },
  {
   "cell_type": "markdown",
   "id": "2622e00e",
   "metadata": {},
   "source": [
    "**We ahve 4 samples so we apply  ANOHA test here**\n",
    "\n",
    "**Null Hypothesis--> There is no difference in the average turnaround time**\n",
    "\n",
    "**Alternate Hypothesis-->there is significance difference in the average turnaround time**\n",
    "\n",
    "**Significance level = 5%**"
   ]
  },
  {
   "cell_type": "code",
   "execution_count": 39,
   "id": "e877952e",
   "metadata": {},
   "outputs": [],
   "source": [
    "import pandas as pd\n",
    "import seaborn as sns\n",
    "import scipy.stats as st\n",
    "import statsmodels.api as sm\n",
    "import matplotlib.pyplot as plt"
   ]
  },
  {
   "cell_type": "code",
   "execution_count": 31,
   "id": "592d0d97",
   "metadata": {},
   "outputs": [],
   "source": [
    "#Getting data in to data frame \n",
    "df=pd.read_csv(\"LabTAT.csv\")"
   ]
  },
  {
   "cell_type": "code",
   "execution_count": 32,
   "id": "995ceb43",
   "metadata": {},
   "outputs": [
    {
     "data": {
      "text/plain": [
       "(120, 4)"
      ]
     },
     "execution_count": 32,
     "metadata": {},
     "output_type": "execute_result"
    }
   ],
   "source": [
    "#Checking how much records and columns into data frame \n",
    "df.shape"
   ]
  },
  {
   "cell_type": "code",
   "execution_count": 47,
   "id": "aa169f0e",
   "metadata": {},
   "outputs": [
    {
     "data": {
      "text/html": [
       "<div>\n",
       "<style scoped>\n",
       "    .dataframe tbody tr th:only-of-type {\n",
       "        vertical-align: middle;\n",
       "    }\n",
       "\n",
       "    .dataframe tbody tr th {\n",
       "        vertical-align: top;\n",
       "    }\n",
       "\n",
       "    .dataframe thead th {\n",
       "        text-align: right;\n",
       "    }\n",
       "</style>\n",
       "<table border=\"1\" class=\"dataframe\">\n",
       "  <thead>\n",
       "    <tr style=\"text-align: right;\">\n",
       "      <th></th>\n",
       "      <th>Laboratory 1</th>\n",
       "      <th>Laboratory 2</th>\n",
       "      <th>Laboratory 3</th>\n",
       "      <th>Laboratory 4</th>\n",
       "    </tr>\n",
       "  </thead>\n",
       "  <tbody>\n",
       "    <tr>\n",
       "      <th>count</th>\n",
       "      <td>120.000000</td>\n",
       "      <td>120.000000</td>\n",
       "      <td>120.000000</td>\n",
       "      <td>120.00000</td>\n",
       "    </tr>\n",
       "    <tr>\n",
       "      <th>mean</th>\n",
       "      <td>178.361583</td>\n",
       "      <td>178.902917</td>\n",
       "      <td>199.913250</td>\n",
       "      <td>163.68275</td>\n",
       "    </tr>\n",
       "    <tr>\n",
       "      <th>std</th>\n",
       "      <td>13.173594</td>\n",
       "      <td>14.957114</td>\n",
       "      <td>16.539033</td>\n",
       "      <td>15.08508</td>\n",
       "    </tr>\n",
       "    <tr>\n",
       "      <th>min</th>\n",
       "      <td>138.300000</td>\n",
       "      <td>140.550000</td>\n",
       "      <td>159.690000</td>\n",
       "      <td>124.06000</td>\n",
       "    </tr>\n",
       "    <tr>\n",
       "      <th>25%</th>\n",
       "      <td>170.335000</td>\n",
       "      <td>168.025000</td>\n",
       "      <td>188.232500</td>\n",
       "      <td>154.05000</td>\n",
       "    </tr>\n",
       "    <tr>\n",
       "      <th>50%</th>\n",
       "      <td>178.530000</td>\n",
       "      <td>178.870000</td>\n",
       "      <td>199.805000</td>\n",
       "      <td>164.42500</td>\n",
       "    </tr>\n",
       "    <tr>\n",
       "      <th>75%</th>\n",
       "      <td>186.535000</td>\n",
       "      <td>189.112500</td>\n",
       "      <td>211.332500</td>\n",
       "      <td>172.88250</td>\n",
       "    </tr>\n",
       "    <tr>\n",
       "      <th>max</th>\n",
       "      <td>216.390000</td>\n",
       "      <td>217.860000</td>\n",
       "      <td>238.700000</td>\n",
       "      <td>205.18000</td>\n",
       "    </tr>\n",
       "  </tbody>\n",
       "</table>\n",
       "</div>"
      ],
      "text/plain": [
       "       Laboratory 1  Laboratory 2  Laboratory 3  Laboratory 4\n",
       "count    120.000000    120.000000    120.000000     120.00000\n",
       "mean     178.361583    178.902917    199.913250     163.68275\n",
       "std       13.173594     14.957114     16.539033      15.08508\n",
       "min      138.300000    140.550000    159.690000     124.06000\n",
       "25%      170.335000    168.025000    188.232500     154.05000\n",
       "50%      178.530000    178.870000    199.805000     164.42500\n",
       "75%      186.535000    189.112500    211.332500     172.88250\n",
       "max      216.390000    217.860000    238.700000     205.18000"
      ]
     },
     "execution_count": 47,
     "metadata": {},
     "output_type": "execute_result"
    }
   ],
   "source": [
    "#Geting the mean,standard deviation and other parameters\n",
    "df.describe()"
   ]
  },
  {
   "cell_type": "code",
   "execution_count": 40,
   "id": "4c147452",
   "metadata": {},
   "outputs": [
    {
     "data": {
      "image/png": "[encoded data removed]",
      "text/plain": [
       "<Figure size 459.5x360 with 1 Axes>"
      ]
     },
     "metadata": {
      "needs_background": "light"
     },
     "output_type": "display_data"
    }
   ],
   "source": [
    "sns.displot(df,kind='kde')\n",
    "plt.show()"
   ]
  },
  {
   "cell_type": "code",
   "execution_count": 41,
   "id": "dda2718d",
   "metadata": {},
   "outputs": [
    {
     "data": {
      "text/plain": [
       "0    185.35\n",
       "1    170.49\n",
       "2    192.77\n",
       "3    177.33\n",
       "4    193.41\n",
       "Name: Laboratory 1, dtype: float64"
      ]
     },
     "execution_count": 41,
     "metadata": {},
     "output_type": "execute_result"
    }
   ],
   "source": [
    "#Getting first column\n",
    "lab1=df.iloc[:,0]\n",
    "lab1.head()"
   ]
  },
  {
   "cell_type": "code",
   "execution_count": 42,
   "id": "bdba42ba",
   "metadata": {},
   "outputs": [
    {
     "data": {
      "text/plain": [
       "0    165.53\n",
       "1    185.91\n",
       "2    194.92\n",
       "3    183.00\n",
       "4    169.57\n",
       "Name: Laboratory 2, dtype: float64"
      ]
     },
     "execution_count": 42,
     "metadata": {},
     "output_type": "execute_result"
    }
   ],
   "source": [
    "#Getting the second column\n",
    "lab2=df.iloc[:,1]\n",
    "lab2.head()"
   ]
  },
  {
   "cell_type": "code",
   "execution_count": 43,
   "id": "d914f5eb",
   "metadata": {},
   "outputs": [
    {
     "data": {
      "text/plain": [
       "0    176.70\n",
       "1    198.45\n",
       "2    201.23\n",
       "3    199.61\n",
       "4    204.63\n",
       "Name: Laboratory 3, dtype: float64"
      ]
     },
     "execution_count": 43,
     "metadata": {},
     "output_type": "execute_result"
    }
   ],
   "source": [
    "#getting third column \n",
    "lab3=df.iloc[:,2]\n",
    "lab3.head()"
   ]
  },
  {
   "cell_type": "code",
   "execution_count": 44,
   "id": "e7faf628",
   "metadata": {},
   "outputs": [
    {
     "data": {
      "text/plain": [
       "0    166.13\n",
       "1    160.79\n",
       "2    185.18\n",
       "3    176.42\n",
       "4    152.60\n",
       "Name: Laboratory 4, dtype: float64"
      ]
     },
     "execution_count": 44,
     "metadata": {},
     "output_type": "execute_result"
    }
   ],
   "source": [
    "#Getting fourth column\n",
    "lab4=df.iloc[:,3]\n",
    "lab4.head()"
   ]
  },
  {
   "cell_type": "code",
   "execution_count": 52,
   "id": "a0688a8e",
   "metadata": {},
   "outputs": [],
   "source": [
    "#Applying f_test to data\n",
    "P_value=st.f_oneway(lab1,lab2,lab3,lab4)"
   ]
  },
  {
   "cell_type": "code",
   "execution_count": 51,
   "id": "00da1e19",
   "metadata": {},
   "outputs": [
    {
     "data": {
      "text/plain": [
       "2.1156708949992414e-57"
      ]
     },
     "execution_count": 51,
     "metadata": {},
     "output_type": "execute_result"
    }
   ],
   "source": [
    "P_value[1]"
   ]
  },
  {
   "cell_type": "markdown",
   "id": "bbaa7579",
   "metadata": {},
   "source": [
    "### Conclusion "
   ]
  },
  {
   "cell_type": "markdown",
   "id": "8536ea3e",
   "metadata": {},
   "source": [
    " **The P value is really small ,So we reject the null hypothesis.\n",
    " The there is significanse difference in turn around time of hospitals preffered laboratories.**"
   ]
  },
  {
   "cell_type": "code",
   "execution_count": null,
   "id": "63077f00",
   "metadata": {},
   "outputs": [],
   "source": []
  }
 ],
 "metadata": {
  "kernelspec": {
   "display_name": "Python 3 (ipykernel)",
   "language": "python",
   "name": "python3"
  },
  "language_info": {
   "codemirror_mode": {
    "name": "ipython",
    "version": 3
   },
   "file_extension": ".py",
   "mimetype": "text/x-python",
   "name": "python",
   "nbconvert_exporter": "python",
   "pygments_lexer": "ipython3",
   "version": "3.7.11"
  }
 },
 "nbformat": 4,
 "nbformat_minor": 5
}
