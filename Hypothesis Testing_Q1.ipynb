{
 "cells": [
  {
   "cell_type": "markdown",
   "id": "3e98dd56",
   "metadata": {},
   "source": [
    "### Problem Statement"
   ]
  },
  {
   "cell_type": "markdown",
   "id": "502c6c1c",
   "metadata": {},
   "source": [
    "**A F&B manager wants to determine whether there is any significant difference\n",
    "in the diameter of the cutlet between two units.A randomly selected sample of cutlets was collected from \n",
    "both units and measured? Analyze the data and draw inferences at 5% significance level. \n",
    "Please state the assumptions and tests that you carried out to check validity of the assumptions**"
   ]
  },
  {
   "cell_type": "markdown",
   "id": "ba4738af",
   "metadata": {},
   "source": [
    "**Significance level is 5%\n",
    "Alpha=0.05\n",
    "This is two tail testing  \n",
    "Lets Assume that Cutlet1 diameter is not  equal to cutlet 2**\n",
    " \n",
    "**H0----> Cutlet1-Cutlet2=0**\n",
    " \n",
    "**H1----> Cutlet1-Cutlet2>0**"
   ]
  },
  {
   "cell_type": "code",
   "execution_count": 66,
   "id": "a3ea8901",
   "metadata": {},
   "outputs": [],
   "source": [
    "#importing the \n",
    "import pandas as pd\n",
    "import seaborn as sns\n",
    "import scipy.stats as st\n",
    "import statsmodels.api as sm\n",
    "import matplotlib.pyplot as plt"
   ]
  },
  {
   "cell_type": "code",
   "execution_count": 45,
   "id": "92fe2789",
   "metadata": {},
   "outputs": [],
   "source": [
    "data=pd.read_csv(\"Cutlets.csv\")"
   ]
  },
  {
   "cell_type": "code",
   "execution_count": 46,
   "id": "08564107",
   "metadata": {},
   "outputs": [
    {
     "data": {
      "text/html": [
       "<div>\n",
       "<style scoped>\n",
       "    .dataframe tbody tr th:only-of-type {\n",
       "        vertical-align: middle;\n",
       "    }\n",
       "\n",
       "    .dataframe tbody tr th {\n",
       "        vertical-align: top;\n",
       "    }\n",
       "\n",
       "    .dataframe thead th {\n",
       "        text-align: right;\n",
       "    }\n",
       "</style>\n",
       "<table border=\"1\" class=\"dataframe\">\n",
       "  <thead>\n",
       "    <tr style=\"text-align: right;\">\n",
       "      <th></th>\n",
       "      <th>Unit A</th>\n",
       "      <th>Unit B</th>\n",
       "    </tr>\n",
       "  </thead>\n",
       "  <tbody>\n",
       "    <tr>\n",
       "      <th>0</th>\n",
       "      <td>6.8090</td>\n",
       "      <td>6.7703</td>\n",
       "    </tr>\n",
       "    <tr>\n",
       "      <th>1</th>\n",
       "      <td>6.4376</td>\n",
       "      <td>7.5093</td>\n",
       "    </tr>\n",
       "  </tbody>\n",
       "</table>\n",
       "</div>"
      ],
      "text/plain": [
       "   Unit A  Unit B\n",
       "0  6.8090  6.7703\n",
       "1  6.4376  7.5093"
      ]
     },
     "execution_count": 46,
     "metadata": {},
     "output_type": "execute_result"
    }
   ],
   "source": [
    "data.head(2)"
   ]
  },
  {
   "cell_type": "code",
   "execution_count": 47,
   "id": "44f9251c",
   "metadata": {},
   "outputs": [
    {
     "data": {
      "text/plain": [
       "(35, 2)"
      ]
     },
     "execution_count": 47,
     "metadata": {},
     "output_type": "execute_result"
    }
   ],
   "source": [
    "#finding how many number of data points in table\n",
    "data.shape "
   ]
  },
  {
   "cell_type": "code",
   "execution_count": 48,
   "id": "a2ca923d",
   "metadata": {},
   "outputs": [
    {
     "data": {
      "text/html": [
       "<div>\n",
       "<style scoped>\n",
       "    .dataframe tbody tr th:only-of-type {\n",
       "        vertical-align: middle;\n",
       "    }\n",
       "\n",
       "    .dataframe tbody tr th {\n",
       "        vertical-align: top;\n",
       "    }\n",
       "\n",
       "    .dataframe thead th {\n",
       "        text-align: right;\n",
       "    }\n",
       "</style>\n",
       "<table border=\"1\" class=\"dataframe\">\n",
       "  <thead>\n",
       "    <tr style=\"text-align: right;\">\n",
       "      <th></th>\n",
       "      <th>Unit A</th>\n",
       "      <th>Unit B</th>\n",
       "    </tr>\n",
       "  </thead>\n",
       "  <tbody>\n",
       "    <tr>\n",
       "      <th>count</th>\n",
       "      <td>35.000000</td>\n",
       "      <td>35.000000</td>\n",
       "    </tr>\n",
       "    <tr>\n",
       "      <th>mean</th>\n",
       "      <td>7.019091</td>\n",
       "      <td>6.964297</td>\n",
       "    </tr>\n",
       "    <tr>\n",
       "      <th>std</th>\n",
       "      <td>0.288408</td>\n",
       "      <td>0.343401</td>\n",
       "    </tr>\n",
       "    <tr>\n",
       "      <th>min</th>\n",
       "      <td>6.437600</td>\n",
       "      <td>6.038000</td>\n",
       "    </tr>\n",
       "    <tr>\n",
       "      <th>25%</th>\n",
       "      <td>6.831500</td>\n",
       "      <td>6.753600</td>\n",
       "    </tr>\n",
       "    <tr>\n",
       "      <th>50%</th>\n",
       "      <td>6.943800</td>\n",
       "      <td>6.939900</td>\n",
       "    </tr>\n",
       "    <tr>\n",
       "      <th>75%</th>\n",
       "      <td>7.280550</td>\n",
       "      <td>7.195000</td>\n",
       "    </tr>\n",
       "    <tr>\n",
       "      <th>max</th>\n",
       "      <td>7.516900</td>\n",
       "      <td>7.545900</td>\n",
       "    </tr>\n",
       "  </tbody>\n",
       "</table>\n",
       "</div>"
      ],
      "text/plain": [
       "          Unit A     Unit B\n",
       "count  35.000000  35.000000\n",
       "mean    7.019091   6.964297\n",
       "std     0.288408   0.343401\n",
       "min     6.437600   6.038000\n",
       "25%     6.831500   6.753600\n",
       "50%     6.943800   6.939900\n",
       "75%     7.280550   7.195000\n",
       "max     7.516900   7.545900"
      ]
     },
     "execution_count": 48,
     "metadata": {},
     "output_type": "execute_result"
    }
   ],
   "source": [
    "#getting mean ,standard deviation of the data and other information\n",
    "data.describe()"
   ]
  },
  {
   "cell_type": "code",
   "execution_count": 49,
   "id": "56f99cf9",
   "metadata": {},
   "outputs": [],
   "source": [
    "#sepearting column in cutlet diameter A -cda &  cutlet diameter -cdb\n",
    "cda=data.iloc[:,0]\n",
    "cdb=data.iloc[:,-1]"
   ]
  },
  {
   "cell_type": "code",
   "execution_count": 50,
   "id": "c7a638ee",
   "metadata": {},
   "outputs": [
    {
     "data": {
      "text/plain": [
       "0    6.8090\n",
       "1    6.4376\n",
       "2    6.9157\n",
       "3    7.3012\n",
       "4    7.4488\n",
       "Name: Unit A, dtype: float64"
      ]
     },
     "execution_count": 50,
     "metadata": {},
     "output_type": "execute_result"
    }
   ],
   "source": [
    "cda.head()"
   ]
  },
  {
   "cell_type": "code",
   "execution_count": 51,
   "id": "17f8097c",
   "metadata": {},
   "outputs": [
    {
     "data": {
      "text/plain": [
       "0    6.7703\n",
       "1    7.5093\n",
       "2    6.7300\n",
       "3    6.7878\n",
       "4    7.1522\n",
       "Name: Unit B, dtype: float64"
      ]
     },
     "execution_count": 51,
     "metadata": {},
     "output_type": "execute_result"
    }
   ],
   "source": [
    "cdb.head()"
   ]
  },
  {
   "cell_type": "markdown",
   "id": "1c9ddf21",
   "metadata": {},
   "source": [
    "#####  The number of records are more than 30 but the population standard deviation is unknown ,so we will use ttest."
   ]
  },
  {
   "cell_type": "code",
   "execution_count": 25,
   "id": "85fa5a6b",
   "metadata": {},
   "outputs": [
    {
     "name": "stdout",
     "output_type": "stream",
     "text": [
      "variance of cutlet 1 0.08317945374789915\n",
      "variance of cutlet 1 0.11792400440336127\n"
     ]
    },
    {
     "data": {
      "text/plain": [
       "(None, None)"
      ]
     },
     "execution_count": 25,
     "metadata": {},
     "output_type": "execute_result"
    }
   ],
   "source": [
    "#checking the varinace of both the units\n",
    "print(\"variance of cutlet 1\",cda.var()),print(\"variance of cutlet 1\",cdb.var())\n"
   ]
  },
  {
   "cell_type": "code",
   "execution_count": 67,
   "id": "c17d7526",
   "metadata": {},
   "outputs": [
    {
     "data": {
      "image/png": "[encoded data removed]",
      "text/plain": [
       "<Figure size 426.5x360 with 1 Axes>"
      ]
     },
     "metadata": {
      "needs_background": "light"
     },
     "output_type": "display_data"
    }
   ],
   "source": [
    "#visual representation of data\n",
    "sns.displot(data,kind='kde')\n",
    "plt.show()"
   ]
  },
  {
   "cell_type": "code",
   "execution_count": 68,
   "id": "97234ae2",
   "metadata": {},
   "outputs": [
    {
     "data": {
      "text/plain": [
       "0.4722394724599501"
      ]
     },
     "execution_count": 68,
     "metadata": {},
     "output_type": "execute_result"
    }
   ],
   "source": [
    "#Two sample t test from scipy stats\n",
    "P_value=st.ttest_ind(cda,cdb,alternative='two-sided')\n",
    "P_value[1]"
   ]
  },
  {
   "cell_type": "code",
   "execution_count": 59,
   "id": "77ccf92d",
   "metadata": {},
   "outputs": [
    {
     "name": "stdout",
     "output_type": "stream",
     "text": [
      "The P Value for test is = 0.4722394724599501\n"
     ]
    }
   ],
   "source": [
    "print(\"The P Value for test is =\",P_value[1])"
   ]
  },
  {
   "cell_type": "code",
   "execution_count": 69,
   "id": "1dedeb20",
   "metadata": {},
   "outputs": [],
   "source": [
    "#Two sample t test from statsmodels.api\n",
    "P_Value_2=sm.stats.ttest_ind(cda,cdb,usevar='pooled')"
   ]
  },
  {
   "cell_type": "code",
   "execution_count": 62,
   "id": "c0d74d79",
   "metadata": {},
   "outputs": [
    {
     "name": "stdout",
     "output_type": "stream",
     "text": [
      "The P Value for test is = 0.47223947245995723\n"
     ]
    }
   ],
   "source": [
    "print(\"The P Value for test is =\",P_Value_2[1])"
   ]
  },
  {
   "cell_type": "markdown",
   "id": "7961a0ee",
   "metadata": {},
   "source": [
    "#### P_Value  >  Significance value\n",
    "#### 0.472239 > 0.05\n"
   ]
  },
  {
   "cell_type": "markdown",
   "id": "f71f2c89",
   "metadata": {},
   "source": [
    "## Conclusion -"
   ]
  },
  {
   "cell_type": "markdown",
   "id": "b9ce6598",
   "metadata": {},
   "source": [
    "#### Since we got the p value(0.4562)is greater than the  significance value 0.05 ,We can \n",
    "#### accept the null hypothesis ,that means the cutlets diameter from two Units doesnt have significant difference"
   ]
  },
  {
   "cell_type": "code",
   "execution_count": null,
   "id": "0578647f",
   "metadata": {},
   "outputs": [],
   "source": []
  }
 ],
 "metadata": {
  "kernelspec": {
   "display_name": "Python 3 (ipykernel)",
   "language": "python",
   "name": "python3"
  },
  "language_info": {
   "codemirror_mode": {
    "name": "ipython",
    "version": 3
   },
   "file_extension": ".py",
   "mimetype": "text/x-python",
   "name": "python",
   "nbconvert_exporter": "python",
   "pygments_lexer": "ipython3",
   "version": "3.7.11"
  }
 },
 "nbformat": 4,
 "nbformat_minor": 5
}
