{
 "cells": [
  {
   "cell_type": "markdown",
   "id": "5e399464",
   "metadata": {},
   "source": [
    "### Problem Statement"
   ]
  },
  {
   "cell_type": "markdown",
   "id": "5ec4633d",
   "metadata": {},
   "source": [
    "**TeleCall uses 4 centers around the globe to process customer order forms. \n",
    "They audit a certain %  of the customer order forms. \n",
    "Any error in order form renders it defective and has to be reworked before processing. \n",
    "The manager wants to check whether the defective %  varies by centre. \n",
    "Please analyze the data at 5% significance level and help the manager draw appropriate inferences**\n",
    "\n"
   ]
  },
  {
   "cell_type": "markdown",
   "id": "b83fcfb2",
   "metadata": {},
   "source": [
    "#### Null Hypothesis-->Defective percentage is the same to all the center\n",
    "#### Alternate Hypothesis-->Defective percentage varies by center "
   ]
  },
  {
   "cell_type": "code",
   "execution_count": null,
   "id": "f7211a6a",
   "metadata": {},
   "outputs": [],
   "source": [
    "#importing the \n",
    "import pandas as pd\n",
    "import seaborn as sns\n",
    "import scipy.stats as st\n",
    "import statsmodels.api as sm\n",
    "import matplotlib.pyplot as plt\n",
    "from sklearn import preprocessing\n",
    "import array as ar"
   ]
  },
  {
   "cell_type": "code",
   "execution_count": null,
   "id": "30508b4a",
   "metadata": {},
   "outputs": [],
   "source": [
    "data=pd.read_csv(\"Costomer+OrderForm.csv\")"
   ]
  },
  {
   "cell_type": "code",
   "execution_count": null,
   "id": "f4523dd5",
   "metadata": {},
   "outputs": [],
   "source": [
    "data"
   ]
  },
  {
   "cell_type": "code",
   "execution_count": null,
   "id": "725f4ed4",
   "metadata": {},
   "outputs": [],
   "source": [
    "data1=pd.get_dummies(data,drop_first=True)"
   ]
  },
  {
   "cell_type": "code",
   "execution_count": null,
   "id": "6caa9139",
   "metadata": {},
   "outputs": [],
   "source": [
    "data1"
   ]
  },
  {
   "cell_type": "code",
   "execution_count": null,
   "id": "f2dc13cd",
   "metadata": {},
   "outputs": [],
   "source": [
    "#getting the frequency of error free and defective data points\n",
    "a=[]\n",
    "b=[]\n",
    "for i in data1.columns:\n",
    "    a.append(data1[i].value_counts().iloc[0])\n",
    "    b.append(data1[i].value_counts().iloc[1])\n",
    "c=[a,b]"
   ]
  },
  {
   "cell_type": "code",
   "execution_count": null,
   "id": "c6ac0a57",
   "metadata": {},
   "outputs": [],
   "source": [
    "c"
   ]
  },
  {
   "cell_type": "code",
   "execution_count": null,
   "id": "585cead9",
   "metadata": {},
   "outputs": [],
   "source": [
    "#applying chisquare test\n",
    "stat, p, dof, expected = st.chi2_contingency(c)"
   ]
  },
  {
   "cell_type": "code",
   "execution_count": null,
   "id": "dac2df51",
   "metadata": {},
   "outputs": [],
   "source": [
    " stat,p,dof,expected"
   ]
  },
  {
   "cell_type": "code",
   "execution_count": null,
   "id": "41b5553b",
   "metadata": {},
   "outputs": [],
   "source": [
    "print(\"The P value for test is = \",p)"
   ]
  },
  {
   "cell_type": "markdown",
   "id": "14920fe4",
   "metadata": {},
   "source": [
    "## P value > 0.05"
   ]
  },
  {
   "cell_type": "markdown",
   "id": "3c22b18e",
   "metadata": {},
   "source": [
    "### P value is greater than significance value (0.05) so we can accept the null hypothesis\n",
    "### defective % doesnt varies by center"
   ]
  },
  {
   "cell_type": "code",
   "execution_count": 1,
   "id": "b2637657",
   "metadata": {},
   "outputs": [
    {
     "name": "stdout",
     "output_type": "stream",
     "text": [
      "Requirement already satisfied: nbconvert in /Users/gayatrishinde/opt/anaconda3/lib/python3.7/site-packages (6.3.0)\n",
      "Requirement already satisfied: mistune<2,>=0.8.1 in /Users/gayatrishinde/opt/anaconda3/lib/python3.7/site-packages (from nbconvert) (0.8.4)\n",
      "Requirement already satisfied: jupyter-core in /Users/gayatrishinde/opt/anaconda3/lib/python3.7/site-packages (from nbconvert) (4.9.2)\n",
      "Requirement already satisfied: pandocfilters>=1.4.1 in /Users/gayatrishinde/opt/anaconda3/lib/python3.7/site-packages (from nbconvert) (1.5.0)\n",
      "Requirement already satisfied: nbclient<0.6.0,>=0.5.0 in /Users/gayatrishinde/opt/anaconda3/lib/python3.7/site-packages (from nbconvert) (0.5.11)\n",
      "Requirement already satisfied: nbformat>=4.4 in /Users/gayatrishinde/opt/anaconda3/lib/python3.7/site-packages (from nbconvert) (5.1.3)\n",
      "Requirement already satisfied: jinja2>=2.4 in /Users/gayatrishinde/opt/anaconda3/lib/python3.7/site-packages (from nbconvert) (2.11.3)\n",
      "Requirement already satisfied: jupyterlab-pygments in /Users/gayatrishinde/opt/anaconda3/lib/python3.7/site-packages (from nbconvert) (0.1.2)\n",
      "Requirement already satisfied: testpath in /Users/gayatrishinde/opt/anaconda3/lib/python3.7/site-packages (from nbconvert) (0.5.0)\n",
      "Requirement already satisfied: defusedxml in /Users/gayatrishinde/opt/anaconda3/lib/python3.7/site-packages (from nbconvert) (0.7.1)\n",
      "Requirement already satisfied: bleach in /Users/gayatrishinde/opt/anaconda3/lib/python3.7/site-packages (from nbconvert) (4.1.0)\n",
      "Requirement already satisfied: entrypoints>=0.2.2 in /Users/gayatrishinde/opt/anaconda3/lib/python3.7/site-packages (from nbconvert) (0.3)\n",
      "Requirement already satisfied: pygments>=2.4.1 in /Users/gayatrishinde/opt/anaconda3/lib/python3.7/site-packages (from nbconvert) (2.11.2)\n",
      "Requirement already satisfied: traitlets>=5.0 in /Users/gayatrishinde/opt/anaconda3/lib/python3.7/site-packages (from nbconvert) (5.1.1)\n",
      "Requirement already satisfied: MarkupSafe>=0.23 in /Users/gayatrishinde/opt/anaconda3/lib/python3.7/site-packages (from jinja2>=2.4->nbconvert) (2.0.1)\n",
      "Requirement already satisfied: jupyter-client>=6.1.5 in /Users/gayatrishinde/opt/anaconda3/lib/python3.7/site-packages (from nbclient<0.6.0,>=0.5.0->nbconvert) (6.1.12)\n",
      "Requirement already satisfied: nest-asyncio in /Users/gayatrishinde/opt/anaconda3/lib/python3.7/site-packages (from nbclient<0.6.0,>=0.5.0->nbconvert) (1.5.1)\n",
      "Requirement already satisfied: ipython-genutils in /Users/gayatrishinde/opt/anaconda3/lib/python3.7/site-packages (from nbformat>=4.4->nbconvert) (0.2.0)\n",
      "Requirement already satisfied: jsonschema!=2.5.0,>=2.4 in /Users/gayatrishinde/opt/anaconda3/lib/python3.7/site-packages (from nbformat>=4.4->nbconvert) (3.2.0)\n",
      "Requirement already satisfied: six>=1.9.0 in /Users/gayatrishinde/opt/anaconda3/lib/python3.7/site-packages (from bleach->nbconvert) (1.16.0)\n",
      "Requirement already satisfied: packaging in /Users/gayatrishinde/opt/anaconda3/lib/python3.7/site-packages (from bleach->nbconvert) (21.3)\n",
      "Requirement already satisfied: webencodings in /Users/gayatrishinde/opt/anaconda3/lib/python3.7/site-packages (from bleach->nbconvert) (0.5.1)\n",
      "Requirement already satisfied: setuptools in /Users/gayatrishinde/opt/anaconda3/lib/python3.7/site-packages (from jsonschema!=2.5.0,>=2.4->nbformat>=4.4->nbconvert) (61.2.0)\n",
      "Requirement already satisfied: importlib-metadata in /Users/gayatrishinde/opt/anaconda3/lib/python3.7/site-packages (from jsonschema!=2.5.0,>=2.4->nbformat>=4.4->nbconvert) (4.8.2)\n",
      "Requirement already satisfied: attrs>=17.4.0 in /Users/gayatrishinde/opt/anaconda3/lib/python3.7/site-packages (from jsonschema!=2.5.0,>=2.4->nbformat>=4.4->nbconvert) (21.4.0)\n",
      "Requirement already satisfied: pyrsistent>=0.14.0 in /Users/gayatrishinde/opt/anaconda3/lib/python3.7/site-packages (from jsonschema!=2.5.0,>=2.4->nbformat>=4.4->nbconvert) (0.18.0)\n",
      "Requirement already satisfied: tornado>=4.1 in /Users/gayatrishinde/opt/anaconda3/lib/python3.7/site-packages (from jupyter-client>=6.1.5->nbclient<0.6.0,>=0.5.0->nbconvert) (6.1)\n",
      "Requirement already satisfied: pyzmq>=13 in /Users/gayatrishinde/opt/anaconda3/lib/python3.7/site-packages (from jupyter-client>=6.1.5->nbclient<0.6.0,>=0.5.0->nbconvert) (22.3.0)\n",
      "Requirement already satisfied: python-dateutil>=2.1 in /Users/gayatrishinde/opt/anaconda3/lib/python3.7/site-packages (from jupyter-client>=6.1.5->nbclient<0.6.0,>=0.5.0->nbconvert) (2.8.2)\n",
      "Requirement already satisfied: pyparsing!=3.0.5,>=2.0.2 in /Users/gayatrishinde/opt/anaconda3/lib/python3.7/site-packages (from packaging->bleach->nbconvert) (3.0.4)\n",
      "Requirement already satisfied: typing-extensions>=3.6.4 in /Users/gayatrishinde/opt/anaconda3/lib/python3.7/site-packages (from importlib-metadata->jsonschema!=2.5.0,>=2.4->nbformat>=4.4->nbconvert) (3.10.0.2)\n",
      "Requirement already satisfied: zipp>=0.5 in /Users/gayatrishinde/opt/anaconda3/lib/python3.7/site-packages (from importlib-metadata->jsonschema!=2.5.0,>=2.4->nbformat>=4.4->nbconvert) (3.7.0)\n",
      "Note: you may need to restart the kernel to use updated packages.\n"
     ]
    }
   ],
   "source": [
    "pip install nbconvert"
   ]
  },
  {
   "cell_type": "code",
   "execution_count": null,
   "id": "4bbfd5c8",
   "metadata": {},
   "outputs": [],
   "source": []
  }
 ],
 "metadata": {
  "kernelspec": {
   "display_name": "Python 3 (ipykernel)",
   "language": "python",
   "name": "python3"
  },
  "language_info": {
   "codemirror_mode": {
    "name": "ipython",
    "version": 3
   },
   "file_extension": ".py",
   "mimetype": "text/x-python",
   "name": "python",
   "nbconvert_exporter": "python",
   "pygments_lexer": "ipython3",
   "version": "3.7.11"
  }
 },
 "nbformat": 4,
 "nbformat_minor": 5
}
