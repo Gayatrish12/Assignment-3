{
 "cells": [
  {
   "cell_type": "code",
   "execution_count": 68,
   "id": "a5bbfd96",
   "metadata": {},
   "outputs": [
    {
     "data": {
      "text/html": [
       "<style>\n",
       "    table{float:left}\n",
       "</stle>\n"
      ],
      "text/plain": [
       "<IPython.core.display.HTML object>"
      ]
     },
     "metadata": {},
     "output_type": "display_data"
    }
   ],
   "source": [
    "%%html\n",
    "<style>\n",
    "    table{float:left}\n",
    "</stle>"
   ]
  },
  {
   "cell_type": "markdown",
   "id": "d0f1663e",
   "metadata": {},
   "source": [
    "## Problem statement"
   ]
  },
  {
   "cell_type": "markdown",
   "id": "43a9742b",
   "metadata": {},
   "source": [
    "**Sales of products in four different regions is tabulated for males and females. \n",
    "Find if male-female buyer rations are similar across regions**"
   ]
  },
  {
   "cell_type": "markdown",
   "id": "8dde79b8",
   "metadata": {},
   "source": [
    "| Gender|East |West |North|South|\n",
    "| :---: |:---:|:---:|:---:|:---:|\n",
    "|Males  | 50  |142  |131  |70   |\n",
    "|Females|550  |351  |480  |350  |\n"
   ]
  },
  {
   "cell_type": "markdown",
   "id": "8ae1ac88",
   "metadata": {},
   "source": [
    "#### Null Hypothesis     --> All Proportions are equal \n",
    "####  Alternate Hypothesis--> Not All Praportions are equal \n"
   ]
  },
  {
   "cell_type": "code",
   "execution_count": 69,
   "id": "ee239be3",
   "metadata": {},
   "outputs": [],
   "source": [
    "#Importing Necessory libraries\n",
    "import pandas as pd\n",
    "import numpy as np\n",
    "import seaborn as sns\n",
    "import scipy.stats as st\n",
    "import statsmodels.api as sm\n",
    "import matplotlib.pyplot as plt\n"
   ]
  },
  {
   "cell_type": "code",
   "execution_count": 70,
   "id": "99edee80",
   "metadata": {},
   "outputs": [],
   "source": [
    "#loading data inton data frame \n",
    "df=pd.read_csv(\"BuyerRatio.csv\",usecols=[1,2,3,4])"
   ]
  },
  {
   "cell_type": "code",
   "execution_count": 71,
   "id": "22547b9d",
   "metadata": {},
   "outputs": [
    {
     "data": {
      "text/html": [
       "<div>\n",
       "<style scoped>\n",
       "    .dataframe tbody tr th:only-of-type {\n",
       "        vertical-align: middle;\n",
       "    }\n",
       "\n",
       "    .dataframe tbody tr th {\n",
       "        vertical-align: top;\n",
       "    }\n",
       "\n",
       "    .dataframe thead th {\n",
       "        text-align: right;\n",
       "    }\n",
       "</style>\n",
       "<table border=\"1\" class=\"dataframe\">\n",
       "  <thead>\n",
       "    <tr style=\"text-align: right;\">\n",
       "      <th></th>\n",
       "      <th>East</th>\n",
       "      <th>West</th>\n",
       "      <th>North</th>\n",
       "      <th>South</th>\n",
       "    </tr>\n",
       "  </thead>\n",
       "  <tbody>\n",
       "    <tr>\n",
       "      <th>0</th>\n",
       "      <td>50</td>\n",
       "      <td>142</td>\n",
       "      <td>131</td>\n",
       "      <td>70</td>\n",
       "    </tr>\n",
       "    <tr>\n",
       "      <th>1</th>\n",
       "      <td>435</td>\n",
       "      <td>1523</td>\n",
       "      <td>1356</td>\n",
       "      <td>750</td>\n",
       "    </tr>\n",
       "  </tbody>\n",
       "</table>\n",
       "</div>"
      ],
      "text/plain": [
       "   East  West  North  South\n",
       "0    50   142    131     70\n",
       "1   435  1523   1356    750"
      ]
     },
     "execution_count": 71,
     "metadata": {},
     "output_type": "execute_result"
    }
   ],
   "source": [
    "#displaying data\n",
    "df "
   ]
  },
  {
   "cell_type": "code",
   "execution_count": 72,
   "id": "3fcf0f60",
   "metadata": {},
   "outputs": [
    {
     "data": {
      "text/plain": [
       "(2, 4)"
      ]
     },
     "execution_count": 72,
     "metadata": {},
     "output_type": "execute_result"
    }
   ],
   "source": [
    "df.shape"
   ]
  },
  {
   "cell_type": "code",
   "execution_count": 73,
   "id": "61cf9d36",
   "metadata": {},
   "outputs": [],
   "source": [
    "#Geting data into array format \n",
    "data=np.array(df)"
   ]
  },
  {
   "cell_type": "code",
   "execution_count": 74,
   "id": "d08841c3",
   "metadata": {},
   "outputs": [
    {
     "data": {
      "text/plain": [
       "array([[  50,  142,  131,   70],\n",
       "       [ 435, 1523, 1356,  750]])"
      ]
     },
     "execution_count": 74,
     "metadata": {},
     "output_type": "execute_result"
    }
   ],
   "source": [
    "data"
   ]
  },
  {
   "cell_type": "code",
   "execution_count": 75,
   "id": "66bccc3a",
   "metadata": {},
   "outputs": [],
   "source": [
    "#it will give P value for test \n",
    "stats,P_value,dof,expected=st.chi2_contingency(data)"
   ]
  },
  {
   "cell_type": "code",
   "execution_count": 76,
   "id": "5dd7c212",
   "metadata": {},
   "outputs": [
    {
     "data": {
      "text/plain": [
       "(1.595945538661058,\n",
       " 0.6603094907091882,\n",
       " 3,\n",
       " array([[  42.76531299,  146.81287862,  131.11756787,   72.30424052],\n",
       "        [ 442.23468701, 1518.18712138, 1355.88243213,  747.69575948]]))"
      ]
     },
     "execution_count": 76,
     "metadata": {},
     "output_type": "execute_result"
    }
   ],
   "source": [
    "stats,P_value,dof,expected\n"
   ]
  },
  {
   "cell_type": "code",
   "execution_count": 77,
   "id": "c7e3e0be",
   "metadata": {},
   "outputs": [
    {
     "data": {
      "text/plain": [
       "0.6603094907091882"
      ]
     },
     "execution_count": 77,
     "metadata": {},
     "output_type": "execute_result"
    }
   ],
   "source": [
    "P_value"
   ]
  },
  {
   "cell_type": "markdown",
   "id": "8a98bc4b",
   "metadata": {},
   "source": [
    "### P_value > 0.05"
   ]
  },
  {
   "cell_type": "markdown",
   "id": "54e131db",
   "metadata": {},
   "source": [
    "### So We accept the null hypothesis\n",
    "\n",
    "### Male-female buyers ratio is similar across the region "
   ]
  },
  {
   "cell_type": "code",
   "execution_count": null,
   "id": "9cc46893",
   "metadata": {},
   "outputs": [],
   "source": []
  }
 ],
 "metadata": {
  "kernelspec": {
   "display_name": "Python 3 (ipykernel)",
   "language": "python",
   "name": "python3"
  },
  "language_info": {
   "codemirror_mode": {
    "name": "ipython",
    "version": 3
   },
   "file_extension": ".py",
   "mimetype": "text/x-python",
   "name": "python",
   "nbconvert_exporter": "python",
   "pygments_lexer": "ipython3",
   "version": "3.7.11"
  }
 },
 "nbformat": 4,
 "nbformat_minor": 5
}
